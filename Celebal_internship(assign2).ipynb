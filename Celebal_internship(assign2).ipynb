{
 "cells": [
  {
   "cell_type": "code",
   "execution_count": 5,
   "id": "538b3531-d412-4f22-b99f-f8cdae40c790",
   "metadata": {},
   "outputs": [
    {
     "name": "stdout",
     "output_type": "stream",
     "text": [
      "Welcome to my Calculator!\n",
      "\n",
      "Operations:\n",
      "1. Enter 1 to perform Addition\n",
      "2. Enter 2 to perform Subtraction\n",
      "3. Enter 3 to perform Multiplication\n",
      "4. Enter 4 to perform Division\n",
      "5. Enter 5 to perform power\n",
      "6. Enter 6 to Exit\n"
     ]
    },
    {
     "name": "stdin",
     "output_type": "stream",
     "text": [
      "Enter your choice from 1 to 6  6\n"
     ]
    },
    {
     "name": "stdout",
     "output_type": "stream",
     "text": [
      "Exiting...\n"
     ]
    }
   ],
   "source": [
    "# Calculator Program in Python\n",
    "\n",
    "\n",
    "def add(x, y):\n",
    "    return x + y\n",
    "\n",
    "\n",
    "def sub(x, y):\n",
    "    return x - y\n",
    "\n",
    "\n",
    "def multi(x, y):\n",
    "    return x * y\n",
    "\n",
    "\n",
    "def divide(x, y):\n",
    "    if y == 0:\n",
    "        return \"Error: Division by zero!\"\n",
    "    else:\n",
    "        return x / y\n",
    "    \n",
    "def power(x, y):\n",
    "    return x ** y\n",
    "\n",
    "\n",
    "def main():\n",
    "    print(\"Welcome to my Calculator!\")\n",
    "\n",
    "    while True:\n",
    "        print(\"\\nOperations:\")\n",
    "        print(\"1. Enter 1 to perform Addition\")\n",
    "        print(\"2. Enter 2 to perform Subtraction\")\n",
    "        print(\"3. Enter 3 to perform Multiplication\")\n",
    "        print(\"4. Enter 4 to perform Division\")\n",
    "        print(\"5. Enter 5 to perform power\")\n",
    "        print(\"6. Enter 6 to Exit\")\n",
    "\n",
    "        choice = input(\"Enter your choice from 1 to 6 \")\n",
    "\n",
    "        if choice in ['1', '2', '3', '4', '5']:\n",
    "            n1 = float(input(\"Enter first number: \"))\n",
    "            n2 = float(input(\"Enter second number: \"))\n",
    "\n",
    "            if choice == '1':\n",
    "                print(\"Result:\", add(n1, n2))\n",
    "            elif choice == '2':\n",
    "                print(\"Result:\", sub(n1, n2))\n",
    "            elif choice == '3':\n",
    "                print(\"Result:\", multi(n1, n2))\n",
    "            elif choice == '4':\n",
    "                print(\"Result:\", divide(n1, n2))\n",
    "            elif choice == '5':\n",
    "                print(\"Result:\", power(n1, n2))    \n",
    "        elif choice == '6':\n",
    "            print(\"Exiting...\")\n",
    "            break\n",
    "        else:\n",
    "            print(\"Invalid input. Kindly enter a valid number.\")\n",
    "\n",
    "if __name__ == \"__main__\":\n",
    "    main()\n"
   ]
  },
  {
   "cell_type": "code",
   "execution_count": null,
   "id": "a4a82be7-4ff5-49e5-941e-ffd982011e94",
   "metadata": {},
   "outputs": [],
   "source": []
  }
 ],
 "metadata": {
  "kernelspec": {
   "display_name": "Python 3 (ipykernel)",
   "language": "python",
   "name": "python3"
  },
  "language_info": {
   "codemirror_mode": {
    "name": "ipython",
    "version": 3
   },
   "file_extension": ".py",
   "mimetype": "text/x-python",
   "name": "python",
   "nbconvert_exporter": "python",
   "pygments_lexer": "ipython3",
   "version": "3.10.8"
  }
 },
 "nbformat": 4,
 "nbformat_minor": 5
}
